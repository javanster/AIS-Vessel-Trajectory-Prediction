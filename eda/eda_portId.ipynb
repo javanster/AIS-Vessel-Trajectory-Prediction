{
 "cells": [
  {
   "cell_type": "markdown",
   "metadata": {},
   "source": [
    "##### portID feature"
   ]
  },
  {
   "cell_type": "code",
   "execution_count": 10,
   "metadata": {},
   "outputs": [],
   "source": [
    "import pandas as pd\n",
    "import matplotlib.pyplot as plt\n"
   ]
  },
  {
   "cell_type": "code",
   "execution_count": 11,
   "metadata": {},
   "outputs": [
    {
     "data": {
      "text/html": [
       "<div>\n",
       "<style scoped>\n",
       "    .dataframe tbody tr th:only-of-type {\n",
       "        vertical-align: middle;\n",
       "    }\n",
       "\n",
       "    .dataframe tbody tr th {\n",
       "        vertical-align: top;\n",
       "    }\n",
       "\n",
       "    .dataframe thead th {\n",
       "        text-align: right;\n",
       "    }\n",
       "</style>\n",
       "<table border=\"1\" class=\"dataframe\">\n",
       "  <thead>\n",
       "    <tr style=\"text-align: right;\">\n",
       "      <th></th>\n",
       "      <th>time</th>\n",
       "      <th>cog</th>\n",
       "      <th>sog</th>\n",
       "      <th>rot</th>\n",
       "      <th>heading</th>\n",
       "      <th>navstat</th>\n",
       "      <th>etaRaw</th>\n",
       "      <th>latitude</th>\n",
       "      <th>longitude</th>\n",
       "      <th>vesselId</th>\n",
       "      <th>portId</th>\n",
       "    </tr>\n",
       "  </thead>\n",
       "  <tbody>\n",
       "    <tr>\n",
       "      <th>0</th>\n",
       "      <td>2024-01-01 00:00:25</td>\n",
       "      <td>284.0</td>\n",
       "      <td>0.7</td>\n",
       "      <td>0</td>\n",
       "      <td>88</td>\n",
       "      <td>0</td>\n",
       "      <td>01-09 23:00</td>\n",
       "      <td>-34.74370</td>\n",
       "      <td>-57.85130</td>\n",
       "      <td>61e9f3a8b937134a3c4bfdf7</td>\n",
       "      <td>61d371c43aeaecc07011a37f</td>\n",
       "    </tr>\n",
       "    <tr>\n",
       "      <th>1</th>\n",
       "      <td>2024-01-01 00:00:36</td>\n",
       "      <td>109.6</td>\n",
       "      <td>0.0</td>\n",
       "      <td>-6</td>\n",
       "      <td>347</td>\n",
       "      <td>1</td>\n",
       "      <td>12-29 20:00</td>\n",
       "      <td>8.89440</td>\n",
       "      <td>-79.47939</td>\n",
       "      <td>61e9f3d4b937134a3c4bff1f</td>\n",
       "      <td>634c4de270937fc01c3a7689</td>\n",
       "    </tr>\n",
       "    <tr>\n",
       "      <th>2</th>\n",
       "      <td>2024-01-01 00:01:45</td>\n",
       "      <td>111.0</td>\n",
       "      <td>11.0</td>\n",
       "      <td>0</td>\n",
       "      <td>112</td>\n",
       "      <td>0</td>\n",
       "      <td>01-02 09:00</td>\n",
       "      <td>39.19065</td>\n",
       "      <td>-76.47567</td>\n",
       "      <td>61e9f436b937134a3c4c0131</td>\n",
       "      <td>61d3847bb7b7526e1adf3d19</td>\n",
       "    </tr>\n",
       "    <tr>\n",
       "      <th>3</th>\n",
       "      <td>2024-01-01 00:03:11</td>\n",
       "      <td>96.4</td>\n",
       "      <td>0.0</td>\n",
       "      <td>0</td>\n",
       "      <td>142</td>\n",
       "      <td>1</td>\n",
       "      <td>12-31 20:00</td>\n",
       "      <td>-34.41189</td>\n",
       "      <td>151.02067</td>\n",
       "      <td>61e9f3b4b937134a3c4bfe77</td>\n",
       "      <td>61d36f770a1807568ff9a126</td>\n",
       "    </tr>\n",
       "    <tr>\n",
       "      <th>4</th>\n",
       "      <td>2024-01-01 00:03:51</td>\n",
       "      <td>214.0</td>\n",
       "      <td>19.7</td>\n",
       "      <td>0</td>\n",
       "      <td>215</td>\n",
       "      <td>0</td>\n",
       "      <td>01-25 12:00</td>\n",
       "      <td>35.88379</td>\n",
       "      <td>-5.91636</td>\n",
       "      <td>61e9f41bb937134a3c4c0087</td>\n",
       "      <td>634c4de270937fc01c3a74f3</td>\n",
       "    </tr>\n",
       "  </tbody>\n",
       "</table>\n",
       "</div>"
      ],
      "text/plain": [
       "                  time    cog   sog  rot  heading  navstat       etaRaw  \\\n",
       "0  2024-01-01 00:00:25  284.0   0.7    0       88        0  01-09 23:00   \n",
       "1  2024-01-01 00:00:36  109.6   0.0   -6      347        1  12-29 20:00   \n",
       "2  2024-01-01 00:01:45  111.0  11.0    0      112        0  01-02 09:00   \n",
       "3  2024-01-01 00:03:11   96.4   0.0    0      142        1  12-31 20:00   \n",
       "4  2024-01-01 00:03:51  214.0  19.7    0      215        0  01-25 12:00   \n",
       "\n",
       "   latitude  longitude                  vesselId                    portId  \n",
       "0 -34.74370  -57.85130  61e9f3a8b937134a3c4bfdf7  61d371c43aeaecc07011a37f  \n",
       "1   8.89440  -79.47939  61e9f3d4b937134a3c4bff1f  634c4de270937fc01c3a7689  \n",
       "2  39.19065  -76.47567  61e9f436b937134a3c4c0131  61d3847bb7b7526e1adf3d19  \n",
       "3 -34.41189  151.02067  61e9f3b4b937134a3c4bfe77  61d36f770a1807568ff9a126  \n",
       "4  35.88379   -5.91636  61e9f41bb937134a3c4c0087  634c4de270937fc01c3a74f3  "
      ]
     },
     "execution_count": 11,
     "metadata": {},
     "output_type": "execute_result"
    }
   ],
   "source": [
    "train_df = pd.read_csv(\"../data/original_data/ais_train.csv\", sep=\"|\")\n",
    "schedules_df = pd.read_csv('../data/original_data/schedules_to_may_2024.csv', sep=\"|\")\n",
    "ports_df = pd.read_csv('../data/original_data/ports.csv', sep='|')\n",
    "\n",
    "train_df.head()"
   ]
  },
  {
   "cell_type": "code",
   "execution_count": 12,
   "metadata": {},
   "outputs": [
    {
     "name": "stdout",
     "output_type": "stream",
     "text": [
      "Unique port IDs train: 773\n",
      "Unique port IDs schedules: 773\n",
      "Unique port IDs ports: 773\n",
      "NaN values in portId column in train_df: True\n",
      "NaN values in portId column in schedules_df: True\n",
      "NaN values in portId column in ports_df: False\n"
     ]
    }
   ],
   "source": [
    "unique_portIds_n_train = len(train_df[\"portId\"].unique())\n",
    "unique_portIds_n_schedules = len(schedules_df[\"portId\"].unique())\n",
    "unique_portIds_n_ports = len(ports_df[\"portId\"].unique())\n",
    "\n",
    "\n",
    "print(f\"Unique port IDs train: {unique_portIds_n_train}\")\n",
    "print(f\"Unique port IDs schedules: {unique_portIds_n_train}\")\n",
    "print(f\"Unique port IDs ports: {unique_portIds_n_train}\")\n",
    "\n",
    "has_nan_train = train_df['portId'].isna().any()\n",
    "print(f\"NaN values in portId column in train_df: {has_nan_train}\")\n",
    "has_nan_schedules = schedules_df['portId'].isna().any()\n",
    "print(f\"NaN values in portId column in schedules_df: {has_nan_schedules}\")\n",
    "has_nan_ports = ports_df['portId'].isna().any()\n",
    "print(f\"NaN values in portId column in ports_df: {has_nan_ports}\")"
   ]
  },
  {
   "cell_type": "code",
   "execution_count": 13,
   "metadata": {},
   "outputs": [
    {
     "name": "stdout",
     "output_type": "stream",
     "text": [
      "Rows removed from train_df: 1615/1522065\n",
      "Rows removed from schedules_df: 4402/136250\n",
      "Rows removed from ports_df: 0/1329\n"
     ]
    }
   ],
   "source": [
    "# Remove rows with NaN in portId from train_df\n",
    "train_df_cleaned = train_df.dropna(subset=['portId'])\n",
    "\n",
    "# Remove rows with NaN in portId from schedules_df\n",
    "schedules_df_cleaned = schedules_df.dropna(subset=['portId'])\n",
    "\n",
    "# Remove rows with NaN in portId from ports_df\n",
    "ports_df_cleaned = ports_df.dropna(subset=['portId'])\n",
    "\n",
    "# Optionally, print the number of rows removed for each dataframe\n",
    "print(f\"Rows removed from train_df: {len(train_df) - len(train_df_cleaned)}/{len(train_df)}\")\n",
    "print(f\"Rows removed from schedules_df: {len(schedules_df) - len(schedules_df_cleaned)}/{len(schedules_df)}\")\n",
    "print(f\"Rows removed from ports_df: {len(ports_df) - len(ports_df_cleaned)}/{len(ports_df)}\")"
   ]
  },
  {
   "cell_type": "code",
   "execution_count": 14,
   "metadata": {},
   "outputs": [
    {
     "name": "stdout",
     "output_type": "stream",
     "text": [
      "Unique vessels with more than one port ID: 684/688\n"
     ]
    }
   ],
   "source": [
    "distinct_vesselIds = train_df[\"vesselId\"].unique()\n",
    "\n",
    "counter = 0\n",
    "\n",
    "for vesselId in distinct_vesselIds:\n",
    "    df = train_df[train_df[\"vesselId\"] == vesselId]\n",
    "    unique_portIds = df[\"portId\"].unique()\n",
    "    if len(unique_portIds) > 1:\n",
    "        counter += 1\n",
    "\n",
    "print(f\"Unique vessels with more than one port ID: {counter}/{len(distinct_vesselIds)}\")"
   ]
  },
  {
   "cell_type": "code",
   "execution_count": 15,
   "metadata": {},
   "outputs": [
    {
     "name": "stdout",
     "output_type": "stream",
     "text": [
      "{40: 16, 46: 6, 79: 4, 17: 12, 1: 4, 20: 15, 15: 10, 30: 18, 48: 8, 18: 5, 27: 9, 81: 5, 64: 4, 52: 6, 42: 11, 19: 12, 39: 13, 54: 6, 23: 22, 36: 21, 66: 9, 34: 14, 24: 15, 13: 12, 7: 2, 47: 10, 4: 4, 29: 19, 28: 12, 65: 7, 21: 18, 58: 5, 41: 11, 71: 5, 76: 3, 72: 6, 9: 7, 37: 16, 11: 10, 77: 5, 16: 9, 84: 1, 60: 5, 63: 4, 44: 10, 31: 8, 2: 4, 45: 10, 33: 21, 25: 16, 14: 4, 70: 8, 53: 4, 83: 4, 55: 5, 38: 9, 74: 2, 35: 17, 78: 4, 49: 5, 61: 5, 93: 1, 26: 13, 32: 16, 57: 5, 3: 2, 94: 1, 73: 3, 87: 3, 59: 3, 22: 14, 62: 5, 50: 4, 8: 5, 68: 8, 75: 6, 82: 3, 5: 3, 56: 6, 43: 6, 88: 1, 69: 6, 67: 3, 85: 4, 51: 3, 91: 2, 12: 4, 96: 1, 80: 1, 101: 1, 90: 1, 10: 1, 6: 1}\n"
     ]
    }
   ],
   "source": [
    "# The distribution of unique portId frequencies for one vesselId\n",
    "\n",
    "frequencies = {}\n",
    "\n",
    "for vesselId in distinct_vesselIds:\n",
    "    df = train_df[train_df[\"vesselId\"] == vesselId]\n",
    "    unique_portIds_for_vessel = df[\"portId\"].unique()\n",
    "    unique_portIds_for_vessel_n = len(unique_portIds_for_vessel)\n",
    "    freq_value = frequencies.get(unique_portIds_for_vessel_n)\n",
    "    if freq_value == None:\n",
    "        frequencies[unique_portIds_for_vessel_n] = 1\n",
    "    else:\n",
    "        frequencies[unique_portIds_for_vessel_n] += 1\n",
    "\n",
    "print(frequencies)\n",
    "\n",
    "\n",
    "\n"
   ]
  },
  {
   "cell_type": "code",
   "execution_count": 16,
   "metadata": {},
   "outputs": [
    {
     "data": {
      "image/png": "[encoded data removed]",
      "text/plain": [
       "<Figure size 800x600 with 1 Axes>"
      ]
     },
     "metadata": {},
     "output_type": "display_data"
    }
   ],
   "source": [
    "plt.figure(figsize=(8, 6))\n",
    "plt.bar(x=frequencies.keys(), height=frequencies.values())\n",
    "\n",
    "# Add labels and title\n",
    "plt.xlabel('Number of unique portIds')\n",
    "plt.ylabel('Number of vesselIds')\n",
    "\n",
    "# Show the plot\n",
    "plt.show()"
   ]
  }
 ],
 "metadata": {
  "kernelspec": {
   "display_name": "Python 3",
   "language": "python",
   "name": "python3"
  },
  "language_info": {
   "codemirror_mode": {
    "name": "ipython",
    "version": 3
   },
   "file_extension": ".py",
   "mimetype": "text/x-python",
   "name": "python",
   "nbconvert_exporter": "python",
   "pygments_lexer": "ipython3",
   "version": "3.11.9"
  }
 },
 "nbformat": 4,
 "nbformat_minor": 2
}
