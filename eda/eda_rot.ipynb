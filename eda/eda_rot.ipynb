{
 "cells": [
  {
   "cell_type": "markdown",
   "metadata": {},
   "source": [
    "##### ROT feature (Rate Of Turn)\n",
    "\n",
    "Indicates how quickly the vessel is changing its heading either to the right (positive value) or to the left (negative value)"
   ]
  },
  {
   "cell_type": "code",
   "execution_count": 1,
   "metadata": {},
   "outputs": [],
   "source": [
    "import pandas as pd\n",
    "import matplotlib.pyplot as plt\n",
    "import seaborn as sns\n",
    "from matplotlib_venn import venn2\n"
   ]
  },
  {
   "cell_type": "code",
   "execution_count": 2,
   "metadata": {},
   "outputs": [],
   "source": [
    "train_df = pd.read_csv(\"../data/original_data/ais_train.csv\", sep=\"|\")"
   ]
  },
  {
   "cell_type": "code",
   "execution_count": 3,
   "metadata": {},
   "outputs": [
    {
     "name": "stdout",
     "output_type": "stream",
     "text": [
      "Max rot: 128\n",
      "Max rot below not available: 127\n",
      "Min rot: -127\n",
      "Count: 1522065\n",
      "Unique rot values: 104\n"
     ]
    }
   ],
   "source": [
    "max_rot = train_df[\"rot\"].max()\n",
    "max_rot_below_not_available = train_df[train_df[\"rot\"] < 128][\"rot\"].max()\n",
    "min_rot = train_df[\"rot\"].min()\n",
    "rot_count = train_df[\"rot\"].count()\n",
    "rot_unique_values_count = len(train_df[\"rot\"].unique())\n",
    "\n",
    "print(f\"Max rot: {max_rot}\")\n",
    "print(f\"Max rot below not available: {max_rot_below_not_available}\")\n",
    "print(f\"Min rot: {min_rot}\")\n",
    "print(f\"Count: {rot_count}\")\n",
    "print(f\"Unique rot values: {rot_unique_values_count}\")"
   ]
  }
 ],
 "metadata": {
  "kernelspec": {
   "display_name": "Python 3",
   "language": "python",
   "name": "python3"
  },
  "language_info": {
   "codemirror_mode": {
    "name": "ipython",
    "version": 3
   },
   "file_extension": ".py",
   "mimetype": "text/x-python",
   "name": "python",
   "nbconvert_exporter": "python",
   "pygments_lexer": "ipython3",
   "version": "3.11.9"
  }
 },
 "nbformat": 4,
 "nbformat_minor": 2
}
