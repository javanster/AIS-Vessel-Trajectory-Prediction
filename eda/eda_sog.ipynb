{
 "cells": [
  {
   "cell_type": "markdown",
   "metadata": {},
   "source": [
    "##### SOG feature (Speed Over Ground)\n",
    "\n",
    "The vessel's speed relative to the seafloor at the timestamp. Can be between 0 and 102.2 knots. \n",
    "\n",
    "102.3 = Not available, 102.2 = 102.2 knots or higher\n"
   ]
  },
  {
   "cell_type": "code",
   "execution_count": 1,
   "metadata": {},
   "outputs": [],
   "source": [
    "import pandas as pd\n",
    "import matplotlib.pyplot as plt\n",
    "import seaborn as sns\n",
    "from matplotlib_venn import venn2\n"
   ]
  },
  {
   "cell_type": "code",
   "execution_count": 2,
   "metadata": {},
   "outputs": [],
   "source": [
    "train_df = pd.read_csv(\"../data/original_data/ais_train.csv\", sep=\"|\")"
   ]
  },
  {
   "cell_type": "code",
   "execution_count": 4,
   "metadata": {},
   "outputs": [
    {
     "name": "stdout",
     "output_type": "stream",
     "text": [
      "Max sog: 102.3\n",
      "Max sog below not available: 102.2\n",
      "Min sog: 0.0\n",
      "Count: 1522065\n",
      "Unique sog values: 281\n",
      "Nan sog values: 0\n"
     ]
    }
   ],
   "source": [
    "max_sog = train_df[\"sog\"].max()\n",
    "max_sog_below_not_available = train_df[train_df[\"sog\"] < 102.3][\"sog\"].max()\n",
    "min_sog = train_df[\"sog\"].min()\n",
    "sog_count = train_df[\"sog\"].count()\n",
    "sog_unique_values_count = len(train_df[\"sog\"].unique())\n",
    "sog_nan_values_count = train_df[\"sog\"].isna().sum()\n",
    "\n",
    "print(f\"Max sog: {max_sog}\")\n",
    "print(f\"Max sog below not available: {max_sog_below_not_available}\")\n",
    "print(f\"Min sog: {min_sog}\")\n",
    "print(f\"Count: {sog_count}\")\n",
    "print(f\"Unique sog values: {sog_unique_values_count}\")\n",
    "print(f\"Nan sog values: {sog_nan_values_count}\")\n"
   ]
  }
 ],
 "metadata": {
  "kernelspec": {
   "display_name": "Python 3",
   "language": "python",
   "name": "python3"
  },
  "language_info": {
   "codemirror_mode": {
    "name": "ipython",
    "version": 3
   },
   "file_extension": ".py",
   "mimetype": "text/x-python",
   "name": "python",
   "nbconvert_exporter": "python",
   "pygments_lexer": "ipython3",
   "version": "3.11.9"
  }
 },
 "nbformat": 4,
 "nbformat_minor": 2
}
