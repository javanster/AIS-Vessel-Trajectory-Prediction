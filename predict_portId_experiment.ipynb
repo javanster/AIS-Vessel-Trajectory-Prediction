{
 "cells": [
  {
   "cell_type": "code",
   "execution_count": 51,
   "metadata": {},
   "outputs": [],
   "source": [
    "import pandas as pd\n",
    "from tqdm import tqdm\n",
    "\n",
    "\n",
    "train_df = pd.read_csv('data/processed_data/train.csv')\n",
    "test_df = pd.read_csv('data/processed_data/test.csv')\n",
    "schedules_df = pd.read_csv('data/processed_data/schedules.csv')\n",
    "ports_df = pd.read_csv('data/processed_data/ports.csv')"
   ]
  },
  {
   "cell_type": "code",
   "execution_count": 52,
   "metadata": {},
   "outputs": [
    {
     "name": "stdout",
     "output_type": "stream",
     "text": [
      "136250\n"
     ]
    }
   ],
   "source": [
    "print(len(schedules_df))"
   ]
  },
  {
   "cell_type": "code",
   "execution_count": 53,
   "metadata": {},
   "outputs": [
    {
     "name": "stderr",
     "output_type": "stream",
     "text": [
      "100%|██████████| 136250/136250 [00:21<00:00, 6353.88row/s]\n"
     ]
    }
   ],
   "source": [
    "test_df = test_df.sort_values(by=['vesselId', 'time']).reset_index(drop=True)\n",
    "\n",
    "\n",
    "\n",
    "schedules_df['sailingDate'] = schedules_df['sailingDate']\n",
    "schedules_df['arrivalDate'] = schedules_df['arrivalDate']\n",
    "\n",
    "# Step 1: Initialize a new 'portId' column in test_df with NaN values\n",
    "test_df['portId'] = pd.NA\n",
    "\n",
    "\n",
    "\n",
    "with tqdm(total=len(schedules_df), unit=\"row\") as pbar:\n",
    "    # Step 2: Iterate over each row in schedules_df and assign the corresponding portId to test_df based on the conditions\n",
    "    for _, schedule_row in schedules_df.iterrows():\n",
    "        matching_condition = (\n",
    "            (test_df['vesselId'] == schedule_row['vesselId']) & \n",
    "            (test_df['time'] >= schedule_row['sailingDate'])\n",
    "        )\n",
    "        test_df.loc[matching_condition, 'portId'] = schedule_row['portId']\n",
    "        pbar.update(1)\n",
    "\n"
   ]
  },
  {
   "cell_type": "code",
   "execution_count": 55,
   "metadata": {},
   "outputs": [
    {
     "name": "stdout",
     "output_type": "stream",
     "text": [
      "51739\n"
     ]
    }
   ],
   "source": [
    "print(test_df[\"portId\"].isna().count())"
   ]
  }
 ],
 "metadata": {
  "kernelspec": {
   "display_name": "Python 3",
   "language": "python",
   "name": "python3"
  },
  "language_info": {
   "codemirror_mode": {
    "name": "ipython",
    "version": 3
   },
   "file_extension": ".py",
   "mimetype": "text/x-python",
   "name": "python",
   "nbconvert_exporter": "python",
   "pygments_lexer": "ipython3",
   "version": "3.11.9"
  }
 },
 "nbformat": 4,
 "nbformat_minor": 2
}
