{
 "cells": [
  {
   "cell_type": "code",
   "execution_count": 10,
   "metadata": {},
   "outputs": [
    {
     "name": "stdout",
     "output_type": "stream",
     "text": [
      "Rows in train_df: 1522065\n",
      "Rows in schedules_df: 136250\n",
      "Rows in ports_df: 1329\n",
      "Encountered portIds in train that were not in ports: {nan}\n",
      "Encountered portIds in schedules that were not in ports: {nan}\n"
     ]
    }
   ],
   "source": [
    "import pandas as pd\n",
    "from sklearn.preprocessing import LabelEncoder\n",
    "\n",
    "train_df = pd.read_csv('../data/processed_data/train.csv')\n",
    "schedules_df = pd.read_csv('../data/processed_data/schedules.csv')\n",
    "ports_df = pd.read_csv('../data/original_data/ports.csv', sep='|')\n",
    "\n",
    "\n",
    "\n",
    "print(f\"Rows in train_df: {len(train_df)}\")\n",
    "print(f\"Rows in schedules_df: {len(schedules_df)}\")\n",
    "print(f\"Rows in ports_df: {len(ports_df)}\")\n",
    "\n",
    "\n",
    "port_ids_train = set(train_df['portId'].unique())\n",
    "port_ids_schedules = set(schedules_df['portId'].unique())\n",
    "port_ids_ports = set(ports_df['portId'].unique())\n",
    "\n",
    "\n",
    "\n",
    "missing_port_ids = port_ids_train - port_ids_ports\n",
    "\n",
    "if missing_port_ids:\n",
    "    print(f\"Encountered portIds in train that were not in ports: {missing_port_ids}\")\n",
    "else:\n",
    "    print(\"All vesselIds in test are present in train.\")\n",
    "\n",
    "missing_port_ids = port_ids_schedules - port_ids_ports\n",
    "\n",
    "if missing_port_ids:\n",
    "    print(f\"Encountered portIds in schedules that were not in ports: {missing_port_ids}\")\n",
    "else:\n",
    "    print(\"All vesselIds in test are present in schedules.\")\n"
   ]
  },
  {
   "cell_type": "code",
   "execution_count": 11,
   "metadata": {},
   "outputs": [
    {
     "name": "stdout",
     "output_type": "stream",
     "text": [
      "Encountered portIds in train that were not in ports: {nan}\n",
      "Encountered portIds in schedules that were not in ports: {nan}\n"
     ]
    },
    {
     "name": "stderr",
     "output_type": "stream",
     "text": [
      "/var/folders/9w/2pytp4_s6bj5_ff4zz3vl8ph0000gn/T/ipykernel_13625/3821257599.py:34: FutureWarning: The behavior of DataFrame concatenation with empty or all-NA entries is deprecated. In a future version, this will no longer exclude empty or all-NA columns when determining the result dtypes. To retain the old behavior, exclude the relevant entries before the concat operation.\n",
      "  train_df = pd.concat([train_df, nan_portId_train_df], ignore_index=True)\n",
      "/var/folders/9w/2pytp4_s6bj5_ff4zz3vl8ph0000gn/T/ipykernel_13625/3821257599.py:35: FutureWarning: The behavior of DataFrame concatenation with empty or all-NA entries is deprecated. In a future version, this will no longer exclude empty or all-NA columns when determining the result dtypes. To retain the old behavior, exclude the relevant entries before the concat operation.\n",
      "  schedules_df = pd.concat([schedules_df, nan_portId_schedules_df], ignore_index=True)\n",
      "/var/folders/9w/2pytp4_s6bj5_ff4zz3vl8ph0000gn/T/ipykernel_13625/3821257599.py:36: FutureWarning: The behavior of DataFrame concatenation with empty or all-NA entries is deprecated. In a future version, this will no longer exclude empty or all-NA columns when determining the result dtypes. To retain the old behavior, exclude the relevant entries before the concat operation.\n",
      "  ports_df = pd.concat([ports_df, nan_portId_ports_df], ignore_index=True)\n"
     ]
    }
   ],
   "source": [
    "from sklearn.preprocessing import LabelEncoder, MinMaxScaler\n",
    "\n",
    "label_encoder = LabelEncoder()\n",
    "\n",
    "\n",
    "# Remove rows where portId is na\n",
    "\n",
    "nan_portId_train_df = train_df[train_df['portId'].isna()]\n",
    "train_df = train_df.dropna(subset=['portId'])\n",
    "\n",
    "nan_portId_schedules_df = schedules_df[schedules_df['portId'].isna()]\n",
    "schedules_df = schedules_df.dropna(subset=['portId'])\n",
    "\n",
    "nan_portId_ports_df = ports_df[ports_df['portId'].isna()]\n",
    "ports_df = ports_df.dropna(subset=['portId'])\n",
    "\n",
    "\n",
    "combined_port_ids = pd.concat([train_df['portId'], schedules_df['portId'], ports_df['portId']])\n",
    "label_encoder.fit(combined_port_ids)\n",
    "\n",
    "train_df['portId'] = label_encoder.transform(train_df['portId'])\n",
    "schedules_df['portId'] = label_encoder.transform(schedules_df['portId'])\n",
    "ports_df['portId'] = label_encoder.transform(ports_df['portId'])\n",
    "\n",
    "combined_df = pd.concat([train_df[['portId']], schedules_df[['portId']], ports_df[['portId']]])\n",
    "\n",
    "scaler = MinMaxScaler(feature_range=(0, 1))\n",
    "combined_scaled = scaler.fit_transform(combined_df)\n",
    "\n",
    "train_df['portId'] = combined_scaled[:len(train_df)]\n",
    "schedules_df['portId'] = combined_scaled[len(train_df):len(train_df) + len(schedules_df)]\n",
    "ports_df['portId'] = combined_scaled[len(train_df) + len(schedules_df):]\n",
    "\n",
    "train_df = pd.concat([train_df, nan_portId_train_df], ignore_index=True)\n",
    "schedules_df = pd.concat([schedules_df, nan_portId_schedules_df], ignore_index=True)\n",
    "ports_df = pd.concat([ports_df, nan_portId_ports_df], ignore_index=True)\n",
    "\n",
    "\n",
    "\n",
    "port_ids_train = set(train_df['portId'].unique())\n",
    "port_ids_schedules = set(schedules_df['portId'].unique())\n",
    "port_ids_ports = set(ports_df['portId'].unique())\n",
    "\n",
    "\n",
    "\n",
    "missing_port_ids = port_ids_train - port_ids_ports\n",
    "\n",
    "if missing_port_ids:\n",
    "    print(f\"Encountered portIds in train that were not in ports: {missing_port_ids}\")\n",
    "else:\n",
    "    print(\"All vesselIds in test are present in train.\")\n",
    "\n",
    "missing_port_ids = port_ids_schedules - port_ids_ports\n",
    "\n",
    "if missing_port_ids:\n",
    "    print(f\"Encountered portIds in schedules that were not in ports: {missing_port_ids}\")\n",
    "else:\n",
    "    print(\"All vesselIds in test are present in schedules.\")\n",
    "\n"
   ]
  },
  {
   "cell_type": "code",
   "execution_count": 12,
   "metadata": {},
   "outputs": [],
   "source": [
    "train_df.to_csv('../data/processed_data/train.csv', index=False)\n",
    "ports_df.to_csv('../data/processed_data/ports.csv', index=False)\n",
    "schedules_df.to_csv('../data/processed_data/schedules.csv', index=False)"
   ]
  }
 ],
 "metadata": {
  "kernelspec": {
   "display_name": "Python 3",
   "language": "python",
   "name": "python3"
  },
  "language_info": {
   "codemirror_mode": {
    "name": "ipython",
    "version": 3
   },
   "file_extension": ".py",
   "mimetype": "text/x-python",
   "name": "python",
   "nbconvert_exporter": "python",
   "pygments_lexer": "ipython3",
   "version": "3.11.9"
  }
 },
 "nbformat": 4,
 "nbformat_minor": 2
}
