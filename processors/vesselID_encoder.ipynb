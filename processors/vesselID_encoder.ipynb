{
 "cells": [
  {
   "cell_type": "code",
   "execution_count": 1,
   "metadata": {},
   "outputs": [
    {
     "name": "stdout",
     "output_type": "stream",
     "text": [
      "Rows in train_df: 1522065\n",
      "Rows in test_df: 51739\n",
      "Rows in vessels_df: 711\n",
      "Rows in schedules_df: 136250\n",
      "All vesselIds in test are present in train.\n",
      "All vesselIds in train are present in vessels.\n",
      "Encountered vesselIds in train that were not in schedules. Count: 449\n"
     ]
    },
    {
     "data": {
      "image/png": "[encoded data removed]",
      "text/plain": [
       "<Figure size 300x300 with 1 Axes>"
      ]
     },
     "metadata": {},
     "output_type": "display_data"
    }
   ],
   "source": [
    "import pandas as pd\n",
    "import matplotlib.pyplot as plt\n",
    "from matplotlib_venn import venn2\n",
    "\n",
    "train_df = pd.read_csv('../data/original_data/ais_train.csv', sep='|')\n",
    "test_df = pd.read_csv('../data/original_data/ais_test.csv')\n",
    "vessels_df = pd.read_csv('../data/original_data/vessels.csv', sep='|')\n",
    "schedules_df = pd.read_csv('../data/original_data/schedules_to_may_2024.csv', sep='|')\n",
    "\n",
    "\n",
    "print(f\"Rows in train_df: {len(train_df)}\")\n",
    "print(f\"Rows in test_df: {len(test_df)}\")\n",
    "print(f\"Rows in vessels_df: {len(vessels_df)}\")\n",
    "print(f\"Rows in schedules_df: {len(schedules_df)}\")\n",
    "\n",
    "\n",
    "\n",
    "vessel_ids_train = set(train_df['vesselId'].unique())\n",
    "vessel_ids_test = set(test_df['vesselId'].unique())\n",
    "vessel_ids_vessels = set(vessels_df['vesselId'].unique())\n",
    "vessel_ids_schedules = set(schedules_df['vesselId'].unique())\n",
    "\n",
    "\n",
    "\n",
    "missing_vessel_ids = vessel_ids_test - vessel_ids_train\n",
    "if missing_vessel_ids:\n",
    "    print(f\"Encountered vesselIds in test that were not in train: {missing_vessel_ids}\")\n",
    "else:\n",
    "    print(\"All vesselIds in test are present in train.\")\n",
    "\n",
    "missing_vessel_ids = vessel_ids_train - vessel_ids_vessels\n",
    "if missing_vessel_ids:\n",
    "    print(f\"Encountered vesselIds in train in test that were not in vessels: {missing_vessel_ids}\")\n",
    "else:\n",
    "    print(\"All vesselIds in train are present in vessels.\")\n",
    "    \n",
    "missing_vessel_ids = vessel_ids_train - vessel_ids_schedules\n",
    "if missing_vessel_ids:\n",
    "    print(f\"Encountered vesselIds in train that were not in schedules. Count: {len(missing_vessel_ids)}\")\n",
    "else:\n",
    "    print(\"All vesselIds in train are present in schedules.\")\n",
    "\n",
    "plt.figure(figsize=(3, 3))\n",
    "venn = venn2([vessel_ids_train, vessel_ids_schedules],\n",
    "             set_labels=('Train', 'Schedules'))\n",
    "\n",
    "plt.show()"
   ]
  },
  {
   "cell_type": "code",
   "execution_count": 2,
   "metadata": {},
   "outputs": [
    {
     "name": "stdout",
     "output_type": "stream",
     "text": [
      "Rows in train_df: 1522065\n",
      "Rows in test_df: 51739\n",
      "Rows in vessels_df: 711\n",
      "Rows in schedules_df: 136250\n",
      "All vesselIds in test are present in train.\n",
      "All vesselIds in train are present in vessels.\n",
      "Encountered vesselIds in train in test that were not in schedules. Count: 449\n"
     ]
    }
   ],
   "source": [
    "from sklearn.preprocessing import LabelEncoder, MinMaxScaler\n",
    "\n",
    "# Step 1: Label encoding\n",
    "label_encoder = LabelEncoder()\n",
    "\n",
    "# Fit label encoder on the combined data from both train and test to ensure consistency\n",
    "combined_vessel_ids = pd.concat([train_df['vesselId'], test_df['vesselId'], vessels_df['vesselId'], schedules_df['vesselId']])\n",
    "label_encoder.fit(combined_vessel_ids)\n",
    "\n",
    "train_df['vesselId'] = label_encoder.transform(train_df['vesselId'])\n",
    "test_df['vesselId'] = label_encoder.transform(test_df['vesselId'])\n",
    "vessels_df['vesselId'] = label_encoder.transform(vessels_df['vesselId'])\n",
    "schedules_df['vesselId'] = label_encoder.transform(schedules_df['vesselId'])\n",
    "\n",
    "\n",
    "# Step 2: Combine train and test for scaling to ensure consistent scaling\n",
    "combined_df = pd.concat([train_df[['vesselId']], test_df[['vesselId']], vessels_df[['vesselId']], schedules_df[['vesselId']]])\n",
    "\n",
    "# Step 3: Min-Max scaling\n",
    "scaler = MinMaxScaler(feature_range=(0, 1))\n",
    "combined_scaled = scaler.fit_transform(combined_df)\n",
    "\n",
    "# Step 4: Split the scaled data back to train and test\n",
    "train_df['vesselId'] = combined_scaled[:len(train_df)]\n",
    "test_df['vesselId'] = combined_scaled[len(train_df):len(train_df) + len(test_df)]\n",
    "vessels_df['vesselId'] = combined_scaled[len(train_df) + len(test_df):len(train_df) + len(test_df) + len(vessels_df)]\n",
    "schedules_df['vesselId'] = combined_scaled[len(train_df) + len(test_df) + len(vessels_df):]\n",
    "\n",
    "\n",
    "\n",
    "print(f\"Rows in train_df: {len(train_df)}\")\n",
    "print(f\"Rows in test_df: {len(test_df)}\")\n",
    "print(f\"Rows in vessels_df: {len(vessels_df)}\")\n",
    "print(f\"Rows in schedules_df: {len(schedules_df)}\")\n",
    "\n",
    "vessel_ids_train = set(train_df['vesselId'].unique())\n",
    "vessel_ids_test = set(test_df['vesselId'].unique())\n",
    "vessel_ids_vessels = set(vessels_df['vesselId'].unique())\n",
    "vessel_ids_schedules = set(schedules_df['vesselId'].unique())\n",
    "\n",
    "missing_vessel_ids = vessel_ids_test - vessel_ids_train\n",
    "if missing_vessel_ids:\n",
    "    print(f\"Encountered vesselIds in test that were not in train: {missing_vessel_ids}\")\n",
    "else:\n",
    "    print(\"All vesselIds in test are present in train.\")\n",
    "\n",
    "missing_vessel_ids = vessel_ids_train - vessel_ids_vessels\n",
    "if missing_vessel_ids:\n",
    "    print(f\"Encountered vesselIds in train in test that were not in vessels: {missing_vessel_ids}\")\n",
    "else:\n",
    "    print(\"All vesselIds in train are present in vessels.\")\n",
    "    \n",
    "missing_vessel_ids = vessel_ids_train - vessel_ids_schedules\n",
    "if missing_vessel_ids:\n",
    "    print(f\"Encountered vesselIds in train in test that were not in schedules. Count: {len(missing_vessel_ids)}\")\n",
    "else:\n",
    "    print(\"All vesselIds in train are present in schedules.\")\n",
    "\n"
   ]
  },
  {
   "cell_type": "code",
   "execution_count": 3,
   "metadata": {},
   "outputs": [
    {
     "data": {
      "text/html": [
       "<div>\n",
       "<style scoped>\n",
       "    .dataframe tbody tr th:only-of-type {\n",
       "        vertical-align: middle;\n",
       "    }\n",
       "\n",
       "    .dataframe tbody tr th {\n",
       "        vertical-align: top;\n",
       "    }\n",
       "\n",
       "    .dataframe thead th {\n",
       "        text-align: right;\n",
       "    }\n",
       "</style>\n",
       "<table border=\"1\" class=\"dataframe\">\n",
       "  <thead>\n",
       "    <tr style=\"text-align: right;\">\n",
       "      <th></th>\n",
       "      <th>ID</th>\n",
       "      <th>vesselId</th>\n",
       "      <th>time</th>\n",
       "      <th>scaling_factor</th>\n",
       "    </tr>\n",
       "  </thead>\n",
       "  <tbody>\n",
       "    <tr>\n",
       "      <th>0</th>\n",
       "      <td>0</td>\n",
       "      <td>0.123611</td>\n",
       "      <td>2024-05-08 00:03:16</td>\n",
       "      <td>0.3</td>\n",
       "    </tr>\n",
       "    <tr>\n",
       "      <th>1</th>\n",
       "      <td>1</td>\n",
       "      <td>0.909722</td>\n",
       "      <td>2024-05-08 00:06:17</td>\n",
       "      <td>0.3</td>\n",
       "    </tr>\n",
       "    <tr>\n",
       "      <th>2</th>\n",
       "      <td>2</td>\n",
       "      <td>0.869444</td>\n",
       "      <td>2024-05-08 00:10:02</td>\n",
       "      <td>0.3</td>\n",
       "    </tr>\n",
       "    <tr>\n",
       "      <th>3</th>\n",
       "      <td>3</td>\n",
       "      <td>0.790278</td>\n",
       "      <td>2024-05-08 00:10:34</td>\n",
       "      <td>0.3</td>\n",
       "    </tr>\n",
       "    <tr>\n",
       "      <th>4</th>\n",
       "      <td>4</td>\n",
       "      <td>0.001389</td>\n",
       "      <td>2024-05-08 00:12:27</td>\n",
       "      <td>0.3</td>\n",
       "    </tr>\n",
       "  </tbody>\n",
       "</table>\n",
       "</div>"
      ],
      "text/plain": [
       "   ID  vesselId                 time  scaling_factor\n",
       "0   0  0.123611  2024-05-08 00:03:16             0.3\n",
       "1   1  0.909722  2024-05-08 00:06:17             0.3\n",
       "2   2  0.869444  2024-05-08 00:10:02             0.3\n",
       "3   3  0.790278  2024-05-08 00:10:34             0.3\n",
       "4   4  0.001389  2024-05-08 00:12:27             0.3"
      ]
     },
     "execution_count": 3,
     "metadata": {},
     "output_type": "execute_result"
    }
   ],
   "source": [
    "test_df.head()"
   ]
  },
  {
   "cell_type": "code",
   "execution_count": 4,
   "metadata": {},
   "outputs": [],
   "source": [
    "train_df.to_csv('../data/processed_data/train.csv', index=False)\n",
    "test_df.to_csv('../data/processed_data/test.csv', index=False)\n",
    "vessels_df.to_csv('../data/processed_data/vessels.csv', index=False)\n",
    "schedules_df.to_csv('../data/processed_data/schedules.csv', index=False)\n"
   ]
  }
 ],
 "metadata": {
  "kernelspec": {
   "display_name": "Python 3",
   "language": "python",
   "name": "python3"
  },
  "language_info": {
   "codemirror_mode": {
    "name": "ipython",
    "version": 3
   },
   "file_extension": ".py",
   "mimetype": "text/x-python",
   "name": "python",
   "nbconvert_exporter": "python",
   "pygments_lexer": "ipython3",
   "version": "3.11.9"
  }
 },
 "nbformat": 4,
 "nbformat_minor": 2
}
