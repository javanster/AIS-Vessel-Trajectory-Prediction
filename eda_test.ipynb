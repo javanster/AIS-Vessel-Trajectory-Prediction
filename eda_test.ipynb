{
 "cells": [
  {
   "cell_type": "code",
   "execution_count": 2,
   "metadata": {},
   "outputs": [],
   "source": [
    "import pandas as pd\n"
   ]
  },
  {
   "cell_type": "code",
   "execution_count": 12,
   "metadata": {},
   "outputs": [
    {
     "data": {
      "text/html": [
       "<div>\n",
       "<style scoped>\n",
       "    .dataframe tbody tr th:only-of-type {\n",
       "        vertical-align: middle;\n",
       "    }\n",
       "\n",
       "    .dataframe tbody tr th {\n",
       "        vertical-align: top;\n",
       "    }\n",
       "\n",
       "    .dataframe thead th {\n",
       "        text-align: right;\n",
       "    }\n",
       "</style>\n",
       "<table border=\"1\" class=\"dataframe\">\n",
       "  <thead>\n",
       "    <tr style=\"text-align: right;\">\n",
       "      <th></th>\n",
       "      <th>vesselId</th>\n",
       "      <th>time</th>\n",
       "    </tr>\n",
       "  </thead>\n",
       "  <tbody>\n",
       "    <tr>\n",
       "      <th>count</th>\n",
       "      <td>51739</td>\n",
       "      <td>51739</td>\n",
       "    </tr>\n",
       "    <tr>\n",
       "      <th>unique</th>\n",
       "      <td>215</td>\n",
       "      <td>30990</td>\n",
       "    </tr>\n",
       "    <tr>\n",
       "      <th>top</th>\n",
       "      <td>61e9f466b937134a3c4c0273</td>\n",
       "      <td>2024-05-10 02:58:59</td>\n",
       "    </tr>\n",
       "    <tr>\n",
       "      <th>freq</th>\n",
       "      <td>360</td>\n",
       "      <td>16</td>\n",
       "    </tr>\n",
       "  </tbody>\n",
       "</table>\n",
       "</div>"
      ],
      "text/plain": [
       "                        vesselId                 time\n",
       "count                      51739                51739\n",
       "unique                       215                30990\n",
       "top     61e9f466b937134a3c4c0273  2024-05-10 02:58:59\n",
       "freq                         360                   16"
      ]
     },
     "execution_count": 12,
     "metadata": {},
     "output_type": "execute_result"
    }
   ],
   "source": [
    "test_df = pd.read_csv('data/ais_test.csv')\n",
    "train_df = pd.read_csv('data/ais_train.csv', sep='|')\n",
    "\n",
    "test_df.describe(include=\"object\")"
   ]
  },
  {
   "cell_type": "code",
   "execution_count": 16,
   "metadata": {},
   "outputs": [
    {
     "name": "stdout",
     "output_type": "stream",
     "text": [
      "All vessel IDs in test are also in train\n"
     ]
    }
   ],
   "source": [
    "unique_vessel_ids_in_train = train_df[\"vesselId\"].unique()\n",
    "unique_vessel_ids_in_test = test_df[\"vesselId\"].unique()\n",
    "\n",
    "all_vesselIds_in_train = True\n",
    "\n",
    "for vesselId in unique_vessel_ids_in_test:\n",
    "    if vesselId not in unique_vessel_ids_in_train:\n",
    "        all_vesselIds_in_train = False\n",
    "        print(f\"{vesselId} not in train\")\n",
    "\n",
    "if all_vesselIds_in_train:\n",
    "    print(\"All vessel IDs in test are also in train\")\n",
    "else:\n",
    "    print(\"At least one vessel ID in test is not also in train\")\n",
    "\n",
    "\n"
   ]
  },
  {
   "cell_type": "code",
   "execution_count": 9,
   "metadata": {},
   "outputs": [
    {
     "name": "stdout",
     "output_type": "stream",
     "text": [
      "ID                     0\n",
      "longitude_predicted    0\n",
      "latitude_predicted     0\n",
      "dtype: int64\n",
      "0\n"
     ]
    },
    {
     "data": {
      "text/plain": [
       "ID                     51739\n",
       "longitude_predicted    51739\n",
       "latitude_predicted     51739\n",
       "dtype: int64"
      ]
     },
     "execution_count": 9,
     "metadata": {},
     "output_type": "execute_result"
    }
   ],
   "source": [
    "result = pd.read_csv(\"results.csv\")\n",
    "\n",
    "print(result.isna().sum())\n",
    "\n",
    "print(result.duplicated(\"ID\").sum())\n",
    "\n",
    "result.count()\n"
   ]
  }
 ],
 "metadata": {
  "kernelspec": {
   "display_name": "Python 3",
   "language": "python",
   "name": "python3"
  },
  "language_info": {
   "codemirror_mode": {
    "name": "ipython",
    "version": 3
   },
   "file_extension": ".py",
   "mimetype": "text/x-python",
   "name": "python",
   "nbconvert_exporter": "python",
   "pygments_lexer": "ipython3",
   "version": "3.11.9"
  }
 },
 "nbformat": 4,
 "nbformat_minor": 2
}
